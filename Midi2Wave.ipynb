{
  "nbformat": 4,
  "nbformat_minor": 0,
  "metadata": {
    "colab": {
      "provenance": [],
      "collapsed_sections": []
    },
    "kernelspec": {
      "name": "python3",
      "display_name": "Python 3"
    },
    "language_info": {
      "name": "python"
    }
  },
  "cells": [
    {
      "cell_type": "code",
      "source": [
        "!pip install librosa==0.7.2\n",
        "!pip install matplotlib==3.5.2\n",
        "!pip install numpy==1.21.6\n",
        "!pip install pretty_midi==0.2.9\n",
        "!pip install scipy==1.7.3\n",
        "!pip install torch==1.12.1"
      ],
      "metadata": {
        "id": "7CZNmQc7WRCN"
      },
      "execution_count": null,
      "outputs": []
    },
    {
      "cell_type": "code",
      "source": [
        "!wget \"https://storage.googleapis.com/magentadata/datasets/maestro/v1.0.0/maestro-v1.0.0.csv\"\n",
        "!wget \"https://storage.googleapis.com/magentadata/datasets/maestro/v1.0.0/maestro-v1.0.0-midi.zip\"\n",
        "!wget \"https://storage.googleapis.com/magentadata/datasets/maestro/v1.0.0/maestro-v1.0.0.zip\""
      ],
      "metadata": {
        "colab": {
          "base_uri": "https://localhost:8080/"
        },
        "id": "-blSiviBWWUE",
        "outputId": "350d8c25-d54f-4c6d-c87c-0022c243c9ff"
      },
      "execution_count": 7,
      "outputs": [
        {
          "output_type": "stream",
          "name": "stdout",
          "text": [
            "--2022-09-08 09:15:32--  https://storage.googleapis.com/magentadata/datasets/maestro/v1.0.0/maestro-v1.0.0.csv\n",
            "Resolving storage.googleapis.com (storage.googleapis.com)... 74.125.31.128, 74.125.139.128, 74.125.141.128, ...\n",
            "Connecting to storage.googleapis.com (storage.googleapis.com)|74.125.31.128|:443... connected.\n",
            "HTTP request sent, awaiting response... 200 OK\n",
            "Length: 278382 (272K) [application/octet-stream]\n",
            "Saving to: ‘maestro-v1.0.0.csv.2’\n",
            "\n",
            "\rmaestro-v1.0.0.csv.   0%[                    ]       0  --.-KB/s               \rmaestro-v1.0.0.csv. 100%[===================>] 271.86K  --.-KB/s    in 0.003s  \n",
            "\n",
            "2022-09-08 09:15:32 (76.1 MB/s) - ‘maestro-v1.0.0.csv.2’ saved [278382/278382]\n",
            "\n",
            "--2022-09-08 09:15:32--  https://storage.googleapis.com/magentadata/datasets/maestro/v1.0.0/maestro-v1.0.0-midi.zip\n",
            "Resolving storage.googleapis.com (storage.googleapis.com)... 74.125.31.128, 74.125.139.128, 74.125.141.128, ...\n",
            "Connecting to storage.googleapis.com (storage.googleapis.com)|74.125.31.128|:443... connected.\n",
            "HTTP request sent, awaiting response... 200 OK\n",
            "Length: 46579421 (44M) [application/zip]\n",
            "Saving to: ‘maestro-v1.0.0-midi.zip.1’\n",
            "\n",
            "maestro-v1.0.0-midi 100%[===================>]  44.42M   113MB/s    in 0.4s    \n",
            "\n",
            "2022-09-08 09:15:32 (113 MB/s) - ‘maestro-v1.0.0-midi.zip.1’ saved [46579421/46579421]\n",
            "\n",
            "--2022-09-08 09:15:33--  https://storage.googleapis.com/magentadata/datasets/maestro/v1.0.0/maestro-v1.0.0.zip\n",
            "Resolving storage.googleapis.com (storage.googleapis.com)... 74.125.31.128, 74.125.139.128, 74.125.141.128, ...\n",
            "Connecting to storage.googleapis.com (storage.googleapis.com)|74.125.31.128|:443... connected.\n",
            "HTTP request sent, awaiting response... 200 OK\n",
            "Length: 92603146630 (86G) [application/octet-stream]\n",
            "Saving to: ‘maestro-v1.0.0.zip’\n",
            "\n",
            "maestro-v1.0.0.zip   81%[===============>    ]  70.59G  63.9MB/s    in 10m 37s \n",
            "\n",
            "\n",
            "Cannot write to ‘maestro-v1.0.0.zip’ (Success).\n"
          ]
        }
      ]
    },
    {
      "cell_type": "code",
      "source": [
        "!unzip \"/content/maestro-v1.0.0.zip\""
      ],
      "metadata": {
        "id": "Ply-p6iVXSEl"
      },
      "execution_count": null,
      "outputs": []
    },
    {
      "cell_type": "code",
      "source": [],
      "metadata": {
        "id": "s_o6wlaLX5v9"
      },
      "execution_count": null,
      "outputs": []
    }
  ]
}